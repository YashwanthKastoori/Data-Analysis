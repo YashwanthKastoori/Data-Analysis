{
 "cells": [
  {
   "cell_type": "code",
   "execution_count": 40,
   "metadata": {},
   "outputs": [],
   "source": [
    "from sklearn.linear_model import Perceptron\n",
    "from sklearn.neighbors import KNeighborsClassifier\n",
    "from sklearn.model_selection import train_test_split\n",
    "import numpy as np\n",
    "import pandas as pd\n",
    "from matplotlib import pyplot as plt\n",
    "from sklearn.linear_model import LinearRegression\n",
    "from sklearn.metrics import mean_squared_error, r2_score\n",
    "import pandas as pd\n",
    "from sklearn.linear_model import LogisticRegression\n",
    "from sklearn.metrics import r2_score\n",
    "from statistics import mode\n",
    "from sklearn.svm import SVC\n",
    "from sklearn.preprocessing import StandardScaler\n",
    "from sklearn.metrics import accuracy_score"
   ]
  },
  {
   "cell_type": "code",
   "execution_count": 65,
   "metadata": {},
   "outputs": [
    {
     "data": {
      "text/html": [
       "<div>\n",
       "<style scoped>\n",
       "    .dataframe tbody tr th:only-of-type {\n",
       "        vertical-align: middle;\n",
       "    }\n",
       "\n",
       "    .dataframe tbody tr th {\n",
       "        vertical-align: top;\n",
       "    }\n",
       "\n",
       "    .dataframe thead th {\n",
       "        text-align: right;\n",
       "    }\n",
       "</style>\n",
       "<table border=\"1\" class=\"dataframe\">\n",
       "  <thead>\n",
       "    <tr style=\"text-align: right;\">\n",
       "      <th></th>\n",
       "      <th>Unnamed: 0</th>\n",
       "      <th>date</th>\n",
       "      <th>percentage_rating</th>\n",
       "      <th>oil_future_price</th>\n",
       "      <th>inflation_index</th>\n",
       "      <th>interest_rate</th>\n",
       "      <th>mb/d</th>\n",
       "      <th>GDP</th>\n",
       "      <th>months_into_presidency</th>\n",
       "      <th>current_month</th>\n",
       "      <th>ex_rate</th>\n",
       "      <th>nextmonth_exrate_movement</th>\n",
       "      <th>oil_production_price_product</th>\n",
       "    </tr>\n",
       "  </thead>\n",
       "  <tbody>\n",
       "    <tr>\n",
       "      <th>0</th>\n",
       "      <td>0</td>\n",
       "      <td>2019-11-01</td>\n",
       "      <td>0.0</td>\n",
       "      <td>3.118500</td>\n",
       "      <td>0.11</td>\n",
       "      <td>0.0</td>\n",
       "      <td>-3.0</td>\n",
       "      <td>0.000000</td>\n",
       "      <td>16</td>\n",
       "      <td>11</td>\n",
       "      <td>-25.109503</td>\n",
       "      <td>-1</td>\n",
       "      <td>-9.355500</td>\n",
       "    </tr>\n",
       "    <tr>\n",
       "      <th>1</th>\n",
       "      <td>1</td>\n",
       "      <td>2019-10-01</td>\n",
       "      <td>0.0</td>\n",
       "      <td>-2.757500</td>\n",
       "      <td>0.17</td>\n",
       "      <td>0.0</td>\n",
       "      <td>4.0</td>\n",
       "      <td>1340.633673</td>\n",
       "      <td>15</td>\n",
       "      <td>10</td>\n",
       "      <td>-33.660397</td>\n",
       "      <td>-1</td>\n",
       "      <td>-11.030000</td>\n",
       "    </tr>\n",
       "    <tr>\n",
       "      <th>2</th>\n",
       "      <td>2</td>\n",
       "      <td>2019-09-01</td>\n",
       "      <td>0.0</td>\n",
       "      <td>2.904881</td>\n",
       "      <td>0.23</td>\n",
       "      <td>0.0</td>\n",
       "      <td>-4.0</td>\n",
       "      <td>0.000000</td>\n",
       "      <td>14</td>\n",
       "      <td>9</td>\n",
       "      <td>46.919286</td>\n",
       "      <td>1</td>\n",
       "      <td>-11.619524</td>\n",
       "    </tr>\n",
       "    <tr>\n",
       "      <th>3</th>\n",
       "      <td>3</td>\n",
       "      <td>2019-08-01</td>\n",
       "      <td>0.0</td>\n",
       "      <td>-4.713745</td>\n",
       "      <td>0.09</td>\n",
       "      <td>0.0</td>\n",
       "      <td>14.0</td>\n",
       "      <td>0.000000</td>\n",
       "      <td>13</td>\n",
       "      <td>8</td>\n",
       "      <td>-19.565833</td>\n",
       "      <td>-1</td>\n",
       "      <td>-65.992424</td>\n",
       "    </tr>\n",
       "    <tr>\n",
       "      <th>4</th>\n",
       "      <td>4</td>\n",
       "      <td>2019-07-01</td>\n",
       "      <td>0.0</td>\n",
       "      <td>1.318206</td>\n",
       "      <td>0.23</td>\n",
       "      <td>0.0</td>\n",
       "      <td>-23.0</td>\n",
       "      <td>3276.515899</td>\n",
       "      <td>12</td>\n",
       "      <td>7</td>\n",
       "      <td>209.019079</td>\n",
       "      <td>1</td>\n",
       "      <td>-30.318732</td>\n",
       "    </tr>\n",
       "  </tbody>\n",
       "</table>\n",
       "</div>"
      ],
      "text/plain": [
       "   Unnamed: 0       date  percentage_rating  oil_future_price  \\\n",
       "0           0 2019-11-01                0.0          3.118500   \n",
       "1           1 2019-10-01                0.0         -2.757500   \n",
       "2           2 2019-09-01                0.0          2.904881   \n",
       "3           3 2019-08-01                0.0         -4.713745   \n",
       "4           4 2019-07-01                0.0          1.318206   \n",
       "\n",
       "   inflation_index  interest_rate  mb/d          GDP  months_into_presidency  \\\n",
       "0             0.11            0.0  -3.0     0.000000                      16   \n",
       "1             0.17            0.0   4.0  1340.633673                      15   \n",
       "2             0.23            0.0  -4.0     0.000000                      14   \n",
       "3             0.09            0.0  14.0     0.000000                      13   \n",
       "4             0.23            0.0 -23.0  3276.515899                      12   \n",
       "\n",
       "   current_month     ex_rate  nextmonth_exrate_movement  \\\n",
       "0             11  -25.109503                         -1   \n",
       "1             10  -33.660397                         -1   \n",
       "2              9   46.919286                          1   \n",
       "3              8  -19.565833                         -1   \n",
       "4              7  209.019079                          1   \n",
       "\n",
       "   oil_production_price_product  \n",
       "0                     -9.355500  \n",
       "1                    -11.030000  \n",
       "2                    -11.619524  \n",
       "3                    -65.992424  \n",
       "4                    -30.318732  "
      ]
     },
     "execution_count": 65,
     "metadata": {},
     "output_type": "execute_result"
    }
   ],
   "source": [
    "p = pd.read_excel('merged_monthly_changes.xlsx')\n",
    "p.head()"
   ]
  },
  {
   "cell_type": "code",
   "execution_count": 66,
   "metadata": {},
   "outputs": [],
   "source": [
    "X = p.iloc[:, [3,4,5,6,7,8,9,10,12]].values\n",
    "y = p.iloc[:, 11].values\n"
   ]
  },
  {
   "cell_type": "code",
   "execution_count": 67,
   "metadata": {},
   "outputs": [
    {
     "data": {
      "text/plain": [
       "array([-1, -1,  1, -1,  1, -1, -1,  1,  1,  1, -1, -1,  1,  1,  1,  1,  1,\n",
       "       -1,  1,  1, -1, -1, -1, -1, -1,  1,  1, -1, -1,  1,  1,  1, -1,  1,\n",
       "       -1, -1, -1,  1,  1, -1, -1, -1,  1, -1, -1, -1,  1,  1,  1,  1, -1,\n",
       "        1,  1,  1,  1, -1, -1,  1,  1,  1,  1,  1,  1,  1,  1, -1, -1, -1,\n",
       "       -1, -1,  1,  1,  1,  1, -1,  1,  1, -1,  1,  1,  1,  1,  1, -1, -1,\n",
       "        1,  1, -1,  1, -1,  1,  1,  1, -1, -1, -1,  1,  1,  1,  1,  1, -1,\n",
       "       -1, -1, -1,  1,  1, -1,  1,  1,  1, -1, -1, -1, -1,  1,  1, -1, -1,\n",
       "       -1,  1,  1, -1, -1, -1, -1, -1, -1, -1, -1,  1,  1, -1,  1,  1,  1,\n",
       "        1,  1, -1, -1, -1, -1, -1, -1, -1,  1, -1,  1,  1,  1, -1, -1, -1,\n",
       "       -1, -1, -1, -1, -1, -1,  1, -1, -1,  1,  1,  1,  1, -1, -1, -1, -1,\n",
       "       -1, -1, -1, -1, -1, -1, -1,  1, -1, -1, -1, -1,  1, -1, -1, -1, -1,\n",
       "        1, -1, -1, -1, -1, -1, -1,  1, -1,  1,  1, -1, -1, -1,  1,  1,  1,\n",
       "        1, -1,  1,  1,  1,  1,  1,  1, -1, -1,  1, -1, -1, -1, -1,  1, -1,\n",
       "       -1, -1,  1,  1,  1,  1,  1,  1, -1, -1,  1,  1,  1,  1,  1,  1,  1,\n",
       "        1,  1, -1, -1,  1,  1,  1,  1,  1,  1,  1, -1, -1], dtype=int64)"
      ]
     },
     "execution_count": 67,
     "metadata": {},
     "output_type": "execute_result"
    }
   ],
   "source": [
    "y"
   ]
  },
  {
   "cell_type": "raw",
   "metadata": {},
   "source": [
    "# Perceptron\n",
    "# It is single layer neural network and used for classification"
   ]
  },
  {
   "cell_type": "code",
   "execution_count": 69,
   "metadata": {},
   "outputs": [
    {
     "name": "stdout",
     "output_type": "stream",
     "text": [
      "1.0\n"
     ]
    }
   ],
   "source": [
    "X_train, X_test, y_train, y_test = train_test_split(X, y, test_size = 0.20, random_state = 0)\n",
    "sc_X = StandardScaler()\n",
    "X_train = sc_X.fit_transform(X_train)\n",
    "X_test = sc_X.transform(X_test)\n",
    "classifier=Perceptron()\n",
    "classifier.fit(X_train,y_train)\n",
    "y_pred=classifier.predict(X_test)\n",
    "acc=accuracy_score(y_test, y_pred)\n",
    "print(acc)"
   ]
  },
  {
   "cell_type": "code",
   "execution_count": null,
   "metadata": {},
   "outputs": [],
   "source": []
  },
  {
   "cell_type": "code",
   "execution_count": null,
   "metadata": {},
   "outputs": [],
   "source": []
  }
 ],
 "metadata": {
  "kernelspec": {
   "display_name": "Python 3",
   "language": "python",
   "name": "python3"
  },
  "language_info": {
   "codemirror_mode": {
    "name": "ipython",
    "version": 3
   },
   "file_extension": ".py",
   "mimetype": "text/x-python",
   "name": "python",
   "nbconvert_exporter": "python",
   "pygments_lexer": "ipython3",
   "version": "3.6.5"
  }
 },
 "nbformat": 4,
 "nbformat_minor": 2
}
